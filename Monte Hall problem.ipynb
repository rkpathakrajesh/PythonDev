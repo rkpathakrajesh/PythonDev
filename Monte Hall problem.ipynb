{
 "cells": [
  {
   "cell_type": "code",
   "execution_count": 20,
   "id": "cb02c6cc",
   "metadata": {},
   "outputs": [
    {
     "name": "stdout",
     "output_type": "stream",
     "text": [
      "Enter your choice1\n",
      "Do you want to swap? y/n n\n",
      "Player lost\n",
      "Enter your choice2\n",
      "Do you want to swap? y/n y\n",
      "Player wins\n",
      "Enter your choice2\n",
      "Do you want to swap? y/n n\n",
      "Player lost\n",
      "Enter your choice2\n",
      "Do you want to swap? y/n y\n",
      "Player lost\n",
      "Enter your choice2\n",
      "Do you want to swap? y/n y\n",
      "Player lost\n",
      "=====****====\n",
      "# Swap wins =  1      #\n",
      "# Dont swap wins =  0 #\n",
      "=====****====\n"
     ]
    }
   ],
   "source": [
    "import random\n",
    "doors=[0]*3\n",
    "goatdoor=[0]*3\n",
    "swap=0\n",
    "dont_swap=0\n",
    "j=0\n",
    "while(j<5):\n",
    "    x=random.randint(0,2)\n",
    "    doors[x]='BMW'\n",
    "    for i in range(0,3):\n",
    "        if (i==x):\n",
    "            continue\n",
    "        else:\n",
    "            doors[i]='Goat'\n",
    "            goatdoor.append(i)\n",
    "    choice=int(input(\"Enter your choice\" ))\n",
    "    door_open=random.choice(goatdoor)\n",
    "    while(door_open==choice):\n",
    "        door_open=random.choice(goatdoor)\n",
    "    ch=input(\"Do you want to swap? y/n \")\n",
    "    if(ch=='y'):\n",
    "        if(doors[choice]=='Goat'):\n",
    "            print(\"Player wins\")\n",
    "            swap=swap+1\n",
    "        else:\n",
    "            print(\"Player lost\")\n",
    "    else:\n",
    "        if(doors[choice]=='Goat'):\n",
    "            print(\"Player lost\")\n",
    "        else:\n",
    "            print(\"Player wins\")\n",
    "            dont_swap=dont_swap+1\n",
    "    j=j+1\n",
    "print(\"=======****=======\")\n",
    "print(\"#\",\"Swap wins = \",swap,\"     #\")\n",
    "print(\"#\",\"Dont swap wins = \",dont_swap,\"#\")\n",
    "print(\"=======****=======\")"
   ]
  },
  {
   "cell_type": "code",
   "execution_count": null,
   "id": "073c5971",
   "metadata": {},
   "outputs": [],
   "source": []
  },
  {
   "cell_type": "code",
   "execution_count": 12,
   "id": "015e349f",
   "metadata": {},
   "outputs": [
    {
     "name": "stdout",
     "output_type": "stream",
     "text": [
      "Enter your choice1\n",
      "Do you want to swap? y/n y\n",
      "Player wins\n",
      "1\n",
      "0\n"
     ]
    }
   ],
   "source": [
    "import random\n",
    "doors=[0]*3\n",
    "goatdoor=[0]*3\n",
    "swap=0\n",
    "dont_swap=0\n",
    "x=random.randint(0,2)\n",
    "doors[x]='BMW'\n",
    "for i in range(0,3):\n",
    "    if (i==x):\n",
    "        continue\n",
    "    else:\n",
    "        doors[i]='Goat'\n",
    "        goatdoor.append(i)\n",
    "choice=int(input(\"Enter your choice\" ))\n",
    "door_open=random.choice(goatdoor)\n",
    "while(door_open==choice):\n",
    "    door_open=random.choice(goatdoor)\n",
    "ch=input(\"Do you want to swap? y/n \")\n",
    "if(ch=='y'):\n",
    "    if(doors[choice])=='Goat':\n",
    "        print(\"Player wins\")\n",
    "        swap=swap+1\n",
    "    else:\n",
    "        print(\"Player lost\")\n",
    "else:\n",
    "    if(doors[choice]=='Goat'):\n",
    "        print(\"Player wins\")\n",
    "        dont_swap=dont_swap+1\n",
    "\n",
    "print(swap)\n",
    "print(dont_swap)"
   ]
  },
  {
   "cell_type": "code",
   "execution_count": null,
   "id": "bc18c370",
   "metadata": {},
   "outputs": [],
   "source": []
  }
 ],
 "metadata": {
  "kernelspec": {
   "display_name": "Python 3 (ipykernel)",
   "language": "python",
   "name": "python3"
  },
  "language_info": {
   "codemirror_mode": {
    "name": "ipython",
    "version": 3
   },
   "file_extension": ".py",
   "mimetype": "text/x-python",
   "name": "python",
   "nbconvert_exporter": "python",
   "pygments_lexer": "ipython3",
   "version": "3.9.12"
  }
 },
 "nbformat": 4,
 "nbformat_minor": 5
}
