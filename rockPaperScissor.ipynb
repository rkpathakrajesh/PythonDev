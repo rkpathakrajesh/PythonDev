{
 "cells": [
  {
   "cell_type": "code",
   "execution_count": 10,
   "id": "0e6f4967",
   "metadata": {
    "scrolled": false
   },
   "outputs": [
    {
     "name": "stdout",
     "output_type": "stream",
     "text": [
      "Player one, Enter your choice 45464\n",
      "Player two, Enter your choice 465565\n",
      "Player one, Enter the secret bit position 2\n",
      "Player two, Enter the secret bit position 3\n",
      "Player two wins\n",
      "Do you want to continue? y/n y\n",
      "Player one, Enter your choice 545\n",
      "Player two, Enter your choice 123\n",
      "Player one, Enter the secret bit position 0\n",
      "Player two, Enter the secret bit position 2\n",
      "Player one wins\n",
      "Do you want to continue? y/n y\n",
      "Player one, Enter your choice 222\n",
      "Player two, Enter your choice 124\n",
      "Player one, Enter the secret bit position 2\n",
      "Player two, Enter the secret bit position 2\n",
      "Player two wins\n",
      "Do you want to continue? y/n n\n"
     ]
    }
   ],
   "source": [
    "# rock paper scissor game\n",
    "def rock_paper_scissor(num1, num2, bit1,bit2):\n",
    "    p1=int(num1[bit1])%3\n",
    "    p2=int(num2[bit2])%3\n",
    "    if(player_one[p1]==player_two[p2]):\n",
    "        print(\"Draw\")\n",
    "    elif(player_one[p1]=='Rock' and player_two[p2]=='Scissor'):\n",
    "        print(\"Player one wins\")\n",
    "    elif(player_one[p1]==\"Rock\" and player_two[p2]=='Paper'):\n",
    "        print(\"Player two wins\")\n",
    "    elif(player_one[p1]==\"Paper\" and player_two[p2]=='Rock'):\n",
    "        print(\"Player one wins\")\n",
    "    elif(player_one[p1]=='Paper' and player_two[p2]=='Scissor'):\n",
    "        print('Player two wins')\n",
    "    elif(player_one[p1]=='Scissor' and player_two[p2]=='Paper'):\n",
    "        print('Player one wins')\n",
    "    elif(player_one[p1]=='Scissor' and player_two[p2]=='Rock'):\n",
    "        print(\"Player two wins\")    \n",
    "player_one={0:'Rock',1:'Paper',2:'Scissor'}\n",
    "player_two={0:'Paper',1:'Rock',2:'Scissor'}\n",
    "while(1):\n",
    "    num1=input(\"Player one, Enter your choice \")\n",
    "    num2=input(\"Player two, Enter your choice \")\n",
    "    bit1=int(input(\"Player one, Enter the secret bit position \")) #bit position choice among 0,1,2\n",
    "    bit2=int(input('Player two, Enter the secret bit position ')) #bit position choice among 0,1,2\n",
    "    rock_paper_scissor(num1,num2,bit1,bit2)\n",
    "    ch=input('Do you want to continue? y/n ')\n",
    "    if(ch=='n'):\n",
    "        break"
   ]
  },
  {
   "cell_type": "code",
   "execution_count": null,
   "id": "5808e81d",
   "metadata": {},
   "outputs": [],
   "source": []
  },
  {
   "cell_type": "code",
   "execution_count": null,
   "id": "71851ca0",
   "metadata": {},
   "outputs": [],
   "source": []
  }
 ],
 "metadata": {
  "kernelspec": {
   "display_name": "Python 3 (ipykernel)",
   "language": "python",
   "name": "python3"
  },
  "language_info": {
   "codemirror_mode": {
    "name": "ipython",
    "version": 3
   },
   "file_extension": ".py",
   "mimetype": "text/x-python",
   "name": "python",
   "nbconvert_exporter": "python",
   "pygments_lexer": "ipython3",
   "version": "3.9.12"
  }
 },
 "nbformat": 4,
 "nbformat_minor": 5
}
